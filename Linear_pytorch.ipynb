{
 "cells": [
  {
   "cell_type": "code",
   "execution_count": 16,
   "id": "26a5b535",
   "metadata": {},
   "outputs": [],
   "source": [
    "import numpy as np"
   ]
  },
  {
   "cell_type": "code",
   "execution_count": 32,
   "id": "cafef257",
   "metadata": {},
   "outputs": [
    {
     "name": "stdout",
     "output_type": "stream",
     "text": [
      "<class 'numpy.ndarray'>\n"
     ]
    }
   ],
   "source": [
    "inputs = np.array([[73, 67, 43], \n",
    "                   [91, 88, 64], \n",
    "                   [87, 134, 58]], dtype='float32')\n",
    "\n",
    "targets = np.array([[56, 70], \n",
    "                    [81, 101], \n",
    "                    [119, 133]], dtype='float32')\n",
    "\n",
    "print(type(targets))\n"
   ]
  },
  {
   "cell_type": "code",
   "execution_count": 33,
   "id": "ad38b42c",
   "metadata": {},
   "outputs": [
    {
     "name": "stdout",
     "output_type": "stream",
     "text": [
      "tensor([[ 73.,  67.,  43.],\n",
      "        [ 91.,  88.,  64.],\n",
      "        [ 87., 134.,  58.]])\n",
      "tensor([[ 56.,  70.],\n",
      "        [ 81., 101.],\n",
      "        [119., 133.]])\n"
     ]
    }
   ],
   "source": [
    "# Convert inputs and targets to tensors\n",
    "inputs = torch.from_numpy(inputs)\n",
    "targets = torch.from_numpy(targets)\n",
    "print(inputs)\n",
    "print(targets)"
   ]
  },
  {
   "cell_type": "code",
   "execution_count": 34,
   "id": "dd4d6938",
   "metadata": {},
   "outputs": [
    {
     "name": "stdout",
     "output_type": "stream",
     "text": [
      "tensor([[-0.2617,  1.2508,  0.2421],\n",
      "        [ 0.0226, -1.1233, -0.2252]], requires_grad=True)\n",
      "tensor([ 0.6083, -0.9867], requires_grad=True)\n"
     ]
    }
   ],
   "source": [
    "w = torch.randn(2, 3, requires_grad=True)\n",
    "b = torch.randn(2, requires_grad=True)\n",
    "print(w)\n",
    "print(b)"
   ]
  },
  {
   "cell_type": "markdown",
   "id": "c9a789ac",
   "metadata": {},
   "source": [
    "above cell gives requires_grad=True allows to get gradient of weights and biases"
   ]
  },
  {
   "cell_type": "code",
   "execution_count": 35,
   "id": "d0bcd972",
   "metadata": {},
   "outputs": [],
   "source": [
    "def model(x):\n",
    "    return x @ w.t() + b"
   ]
  },
  {
   "cell_type": "code",
   "execution_count": 37,
   "id": "424af499",
   "metadata": {},
   "outputs": [
    {
     "name": "stdout",
     "output_type": "stream",
     "text": [
      "tensor([[  75.7118,  -84.2835],\n",
      "        [ 102.3500, -112.1955],\n",
      "        [ 159.4801, -162.6059]], grad_fn=<AddBackward0>)\n"
     ]
    }
   ],
   "source": [
    "preds = model(inputs)\n",
    "print(preds)"
   ]
  },
  {
   "cell_type": "code",
   "execution_count": 38,
   "id": "4cacc501",
   "metadata": {},
   "outputs": [],
   "source": [
    "# MSE loss\n",
    "def mse(t1, t2):\n",
    "    diff = t1 - t2\n",
    "    return torch.sum(diff * diff) / diff.numel()"
   ]
  },
  {
   "cell_type": "code",
   "execution_count": 39,
   "id": "6783c631",
   "metadata": {},
   "outputs": [
    {
     "name": "stdout",
     "output_type": "stream",
     "text": [
      "tensor(26520.2598, grad_fn=<DivBackward0>)\n"
     ]
    }
   ],
   "source": [
    "loss = mse(preds, targets)\n",
    "print(loss)"
   ]
  },
  {
   "cell_type": "code",
   "execution_count": 40,
   "id": "a8272f57",
   "metadata": {},
   "outputs": [],
   "source": [
    "loss.backward()"
   ]
  },
  {
   "cell_type": "code",
   "execution_count": 41,
   "id": "a3308bd3",
   "metadata": {},
   "outputs": [
    {
     "name": "stdout",
     "output_type": "stream",
     "text": [
      "tensor([[-0.2617,  1.2508,  0.2421],\n",
      "        [ 0.0226, -1.1233, -0.2252]], requires_grad=True)\n",
      "tensor([[  2301.1929,   2874.6072,   1520.6174],\n",
      "        [-18793.7324, -22903.1289, -12474.6143]])\n"
     ]
    }
   ],
   "source": [
    "# Gradients for weights\n",
    "print(w)\n",
    "print(w.grad)"
   ]
  },
  {
   "cell_type": "code",
   "execution_count": 42,
   "id": "ec4d8819",
   "metadata": {},
   "outputs": [],
   "source": [
    "with torch.no_grad():\n",
    "    w -= w.grad * 1e-5\n",
    "    b -= b.grad * 1e-5"
   ]
  },
  {
   "cell_type": "code",
   "execution_count": 43,
   "id": "67b1437c",
   "metadata": {},
   "outputs": [
    {
     "name": "stdout",
     "output_type": "stream",
     "text": [
      "tensor(26520.2598, grad_fn=<DivBackward0>)\n"
     ]
    }
   ],
   "source": [
    "# Let's verify that the loss is actually lower\n",
    "loss = mse(preds, targets)\n",
    "print(loss)"
   ]
  },
  {
   "cell_type": "code",
   "execution_count": 44,
   "id": "3e880cca",
   "metadata": {},
   "outputs": [
    {
     "name": "stdout",
     "output_type": "stream",
     "text": [
      "tensor([[0., 0., 0.],\n",
      "        [0., 0., 0.]])\n",
      "tensor([0., 0.])\n"
     ]
    }
   ],
   "source": [
    "w.grad.zero_()\n",
    "b.grad.zero_()\n",
    "print(w.grad)\n",
    "print(b.grad)"
   ]
  },
  {
   "cell_type": "code",
   "execution_count": 45,
   "id": "04e27e36",
   "metadata": {},
   "outputs": [
    {
     "name": "stdout",
     "output_type": "stream",
     "text": [
      "tensor([[  71.4518,  -49.8527],\n",
      "        [  96.7528,  -66.9525],\n",
      "        [ 152.7438, -108.3276]], grad_fn=<AddBackward0>)\n"
     ]
    }
   ],
   "source": [
    "# Generate predictions\n",
    "preds = model(inputs)\n",
    "print(preds)"
   ]
  },
  {
   "cell_type": "code",
   "execution_count": 46,
   "id": "244140dc",
   "metadata": {},
   "outputs": [
    {
     "name": "stdout",
     "output_type": "stream",
     "text": [
      "tensor(17072.8809, grad_fn=<DivBackward0>)\n"
     ]
    }
   ],
   "source": [
    "# Calculate the loss\n",
    "loss = mse(preds, targets)\n",
    "print(loss)"
   ]
  },
  {
   "cell_type": "code",
   "execution_count": 48,
   "id": "64cea161",
   "metadata": {},
   "outputs": [
    {
     "name": "stdout",
     "output_type": "stream",
     "text": [
      "tensor([[  1832.4001,   2314.3972,   1209.9164],\n",
      "        [-15009.4766, -18382.6172,  -9966.5430]])\n",
      "tensor([  21.6495, -176.3776])\n"
     ]
    }
   ],
   "source": [
    "#  Compute gradients\n",
    "loss.backward()\n",
    "print(w.grad)\n",
    "print(b.grad)"
   ]
  },
  {
   "cell_type": "code",
   "execution_count": 49,
   "id": "7d009045",
   "metadata": {},
   "outputs": [],
   "source": [
    "# Adjust weights & reset gradients\n",
    "with torch.no_grad():\n",
    "    w -= w.grad * 1e-5\n",
    "    b -= b.grad * 1e-5\n",
    "    w.grad.zero_()\n",
    "    b.grad.zero_()"
   ]
  },
  {
   "cell_type": "code",
   "execution_count": 50,
   "id": "0122d490",
   "metadata": {},
   "outputs": [
    {
     "name": "stdout",
     "output_type": "stream",
     "text": [
      "tensor([[-3.0307e-01,  1.1989e+00,  2.1475e-01],\n",
      "        [ 3.6059e-01, -7.1043e-01, -7.7961e-04]], requires_grad=True)\n",
      "tensor([ 0.6078, -0.9827], requires_grad=True)\n"
     ]
    }
   ],
   "source": [
    "print(w)\n",
    "print(b)"
   ]
  },
  {
   "cell_type": "code",
   "execution_count": 51,
   "id": "428b071a",
   "metadata": {},
   "outputs": [
    {
     "name": "stdout",
     "output_type": "stream",
     "text": [
      "tensor(11015.7334, grad_fn=<DivBackward0>)\n"
     ]
    }
   ],
   "source": [
    "preds = model(inputs)\n",
    "loss = mse(preds, targets)\n",
    "print(loss)"
   ]
  },
  {
   "cell_type": "code",
   "execution_count": 56,
   "id": "de266cd2",
   "metadata": {},
   "outputs": [
    {
     "name": "stdout",
     "output_type": "stream",
     "text": [
      "Epoch 0 started\n",
      "weight=tensor([[-0.2776,  0.9783,  0.2465],\n",
      "        [ 0.5721,  0.4720,  0.1904]], requires_grad=True), bias=tensor([ 0.6079, -0.9820], requires_grad=True)\n",
      "Epoch 1 started\n",
      "weight=tensor([[-0.2774,  0.9780,  0.2467],\n",
      "        [ 0.5713,  0.4729,  0.1900]], requires_grad=True), bias=tensor([ 0.6079, -0.9820], requires_grad=True)\n",
      "Epoch 2 started\n",
      "weight=tensor([[-0.2772,  0.9778,  0.2469],\n",
      "        [ 0.5704,  0.4739,  0.1896]], requires_grad=True), bias=tensor([ 0.6079, -0.9820], requires_grad=True)\n",
      "Epoch 3 started\n",
      "weight=tensor([[-0.2770,  0.9775,  0.2470],\n",
      "        [ 0.5696,  0.4748,  0.1892]], requires_grad=True), bias=tensor([ 0.6079, -0.9821], requires_grad=True)\n",
      "Epoch 4 started\n",
      "weight=tensor([[-0.2768,  0.9772,  0.2472],\n",
      "        [ 0.5687,  0.4758,  0.1888]], requires_grad=True), bias=tensor([ 0.6079, -0.9821], requires_grad=True)\n",
      "Epoch 5 started\n",
      "weight=tensor([[-0.2766,  0.9770,  0.2474],\n",
      "        [ 0.5679,  0.4767,  0.1884]], requires_grad=True), bias=tensor([ 0.6079, -0.9821], requires_grad=True)\n",
      "Epoch 6 started\n",
      "weight=tensor([[-0.2764,  0.9767,  0.2476],\n",
      "        [ 0.5670,  0.4776,  0.1880]], requires_grad=True), bias=tensor([ 0.6079, -0.9821], requires_grad=True)\n",
      "Epoch 7 started\n",
      "weight=tensor([[-0.2762,  0.9764,  0.2478],\n",
      "        [ 0.5662,  0.4786,  0.1876]], requires_grad=True), bias=tensor([ 0.6079, -0.9821], requires_grad=True)\n",
      "Epoch 8 started\n",
      "weight=tensor([[-0.2760,  0.9762,  0.2480],\n",
      "        [ 0.5654,  0.4795,  0.1871]], requires_grad=True), bias=tensor([ 0.6079, -0.9821], requires_grad=True)\n",
      "Epoch 9 started\n",
      "weight=tensor([[-0.2758,  0.9759,  0.2481],\n",
      "        [ 0.5645,  0.4804,  0.1867]], requires_grad=True), bias=tensor([ 0.6079, -0.9821], requires_grad=True)\n",
      "Epoch 10 started\n",
      "weight=tensor([[-0.2756,  0.9756,  0.2483],\n",
      "        [ 0.5637,  0.4813,  0.1863]], requires_grad=True), bias=tensor([ 0.6079, -0.9822], requires_grad=True)\n",
      "Epoch 11 started\n",
      "weight=tensor([[-0.2754,  0.9754,  0.2485],\n",
      "        [ 0.5628,  0.4823,  0.1859]], requires_grad=True), bias=tensor([ 0.6079, -0.9822], requires_grad=True)\n",
      "Epoch 12 started\n",
      "weight=tensor([[-0.2752,  0.9751,  0.2487],\n",
      "        [ 0.5620,  0.4832,  0.1855]], requires_grad=True), bias=tensor([ 0.6080, -0.9822], requires_grad=True)\n",
      "Epoch 13 started\n",
      "weight=tensor([[-0.2750,  0.9748,  0.2489],\n",
      "        [ 0.5612,  0.4841,  0.1852]], requires_grad=True), bias=tensor([ 0.6080, -0.9822], requires_grad=True)\n",
      "Epoch 14 started\n",
      "weight=tensor([[-0.2748,  0.9746,  0.2491],\n",
      "        [ 0.5604,  0.4850,  0.1848]], requires_grad=True), bias=tensor([ 0.6080, -0.9822], requires_grad=True)\n",
      "Epoch 15 started\n",
      "weight=tensor([[-0.2746,  0.9743,  0.2492],\n",
      "        [ 0.5595,  0.4859,  0.1844]], requires_grad=True), bias=tensor([ 0.6080, -0.9822], requires_grad=True)\n",
      "Epoch 16 started\n",
      "weight=tensor([[-0.2744,  0.9740,  0.2494],\n",
      "        [ 0.5587,  0.4868,  0.1840]], requires_grad=True), bias=tensor([ 0.6080, -0.9822], requires_grad=True)\n",
      "Epoch 17 started\n",
      "weight=tensor([[-0.2742,  0.9738,  0.2496],\n",
      "        [ 0.5579,  0.4877,  0.1836]], requires_grad=True), bias=tensor([ 0.6080, -0.9823], requires_grad=True)\n",
      "Epoch 18 started\n",
      "weight=tensor([[-0.2740,  0.9735,  0.2498],\n",
      "        [ 0.5571,  0.4886,  0.1832]], requires_grad=True), bias=tensor([ 0.6080, -0.9823], requires_grad=True)\n",
      "Epoch 19 started\n",
      "weight=tensor([[-0.2738,  0.9733,  0.2500],\n",
      "        [ 0.5563,  0.4895,  0.1828]], requires_grad=True), bias=tensor([ 0.6080, -0.9823], requires_grad=True)\n",
      "Epoch 20 started\n",
      "weight=tensor([[-0.2736,  0.9730,  0.2501],\n",
      "        [ 0.5554,  0.4904,  0.1824]], requires_grad=True), bias=tensor([ 0.6080, -0.9823], requires_grad=True)\n",
      "Epoch 21 started\n",
      "weight=tensor([[-0.2735,  0.9727,  0.2503],\n",
      "        [ 0.5546,  0.4913,  0.1820]], requires_grad=True), bias=tensor([ 0.6080, -0.9823], requires_grad=True)\n",
      "Epoch 22 started\n",
      "weight=tensor([[-0.2733,  0.9725,  0.2505],\n",
      "        [ 0.5538,  0.4922,  0.1816]], requires_grad=True), bias=tensor([ 0.6080, -0.9823], requires_grad=True)\n",
      "Epoch 23 started\n",
      "weight=tensor([[-0.2731,  0.9722,  0.2507],\n",
      "        [ 0.5530,  0.4931,  0.1813]], requires_grad=True), bias=tensor([ 0.6080, -0.9824], requires_grad=True)\n",
      "Epoch 24 started\n",
      "weight=tensor([[-0.2729,  0.9720,  0.2508],\n",
      "        [ 0.5522,  0.4940,  0.1809]], requires_grad=True), bias=tensor([ 0.6080, -0.9824], requires_grad=True)\n",
      "Epoch 25 started\n",
      "weight=tensor([[-0.2727,  0.9717,  0.2510],\n",
      "        [ 0.5514,  0.4949,  0.1805]], requires_grad=True), bias=tensor([ 0.6080, -0.9824], requires_grad=True)\n",
      "Epoch 26 started\n",
      "weight=tensor([[-0.2725,  0.9715,  0.2512],\n",
      "        [ 0.5506,  0.4957,  0.1801]], requires_grad=True), bias=tensor([ 0.6080, -0.9824], requires_grad=True)\n",
      "Epoch 27 started\n",
      "weight=tensor([[-0.2723,  0.9712,  0.2514],\n",
      "        [ 0.5498,  0.4966,  0.1797]], requires_grad=True), bias=tensor([ 0.6080, -0.9824], requires_grad=True)\n",
      "Epoch 28 started\n",
      "weight=tensor([[-0.2722,  0.9710,  0.2515],\n",
      "        [ 0.5490,  0.4975,  0.1794]], requires_grad=True), bias=tensor([ 0.6080, -0.9824], requires_grad=True)\n",
      "Epoch 29 started\n",
      "weight=tensor([[-0.2720,  0.9707,  0.2517],\n",
      "        [ 0.5482,  0.4984,  0.1790]], requires_grad=True), bias=tensor([ 0.6080, -0.9824], requires_grad=True)\n",
      "Epoch 30 started\n",
      "weight=tensor([[-0.2718,  0.9705,  0.2519],\n",
      "        [ 0.5474,  0.4992,  0.1786]], requires_grad=True), bias=tensor([ 0.6080, -0.9824], requires_grad=True)\n",
      "Epoch 31 started\n",
      "weight=tensor([[-0.2716,  0.9702,  0.2521],\n",
      "        [ 0.5466,  0.5001,  0.1783]], requires_grad=True), bias=tensor([ 0.6080, -0.9825], requires_grad=True)\n",
      "Epoch 32 started\n",
      "weight=tensor([[-0.2714,  0.9700,  0.2522],\n",
      "        [ 0.5458,  0.5010,  0.1779]], requires_grad=True), bias=tensor([ 0.6080, -0.9825], requires_grad=True)\n",
      "Epoch 33 started\n",
      "weight=tensor([[-0.2712,  0.9697,  0.2524],\n",
      "        [ 0.5450,  0.5018,  0.1775]], requires_grad=True), bias=tensor([ 0.6080, -0.9825], requires_grad=True)\n",
      "Epoch 34 started\n",
      "weight=tensor([[-0.2711,  0.9695,  0.2526],\n",
      "        [ 0.5443,  0.5027,  0.1771]], requires_grad=True), bias=tensor([ 0.6080, -0.9825], requires_grad=True)\n",
      "Epoch 35 started\n",
      "weight=tensor([[-0.2709,  0.9692,  0.2528],\n",
      "        [ 0.5435,  0.5036,  0.1768]], requires_grad=True), bias=tensor([ 0.6080, -0.9825], requires_grad=True)\n",
      "Epoch 36 started\n",
      "weight=tensor([[-0.2707,  0.9690,  0.2529],\n",
      "        [ 0.5427,  0.5044,  0.1764]], requires_grad=True), bias=tensor([ 0.6080, -0.9825], requires_grad=True)\n",
      "Epoch 37 started\n",
      "weight=tensor([[-0.2705,  0.9687,  0.2531],\n",
      "        [ 0.5419,  0.5053,  0.1761]], requires_grad=True), bias=tensor([ 0.6080, -0.9825], requires_grad=True)\n",
      "Epoch 38 started\n",
      "weight=tensor([[-0.2703,  0.9685,  0.2533],\n",
      "        [ 0.5411,  0.5061,  0.1757]], requires_grad=True), bias=tensor([ 0.6080, -0.9826], requires_grad=True)\n",
      "Epoch 39 started\n",
      "weight=tensor([[-0.2702,  0.9682,  0.2534],\n",
      "        [ 0.5404,  0.5070,  0.1753]], requires_grad=True), bias=tensor([ 0.6080, -0.9826], requires_grad=True)\n",
      "Epoch 40 started\n",
      "weight=tensor([[-0.2700,  0.9680,  0.2536],\n",
      "        [ 0.5396,  0.5078,  0.1750]], requires_grad=True), bias=tensor([ 0.6080, -0.9826], requires_grad=True)\n",
      "Epoch 41 started\n",
      "weight=tensor([[-0.2698,  0.9678,  0.2538],\n",
      "        [ 0.5388,  0.5087,  0.1746]], requires_grad=True), bias=tensor([ 0.6080, -0.9826], requires_grad=True)\n",
      "Epoch 42 started\n",
      "weight=tensor([[-0.2696,  0.9675,  0.2540],\n",
      "        [ 0.5381,  0.5095,  0.1743]], requires_grad=True), bias=tensor([ 0.6080, -0.9826], requires_grad=True)\n",
      "Epoch 43 started\n",
      "weight=tensor([[-0.2694,  0.9673,  0.2541],\n",
      "        [ 0.5373,  0.5103,  0.1739]], requires_grad=True), bias=tensor([ 0.6080, -0.9826], requires_grad=True)\n",
      "Epoch 44 started\n",
      "weight=tensor([[-0.2693,  0.9670,  0.2543],\n",
      "        [ 0.5365,  0.5112,  0.1735]], requires_grad=True), bias=tensor([ 0.6080, -0.9826], requires_grad=True)\n",
      "Epoch 45 started\n",
      "weight=tensor([[-0.2691,  0.9668,  0.2545],\n",
      "        [ 0.5358,  0.5120,  0.1732]], requires_grad=True), bias=tensor([ 0.6080, -0.9827], requires_grad=True)\n",
      "Epoch 46 started\n",
      "weight=tensor([[-0.2689,  0.9666,  0.2546],\n",
      "        [ 0.5350,  0.5128,  0.1728]], requires_grad=True), bias=tensor([ 0.6080, -0.9827], requires_grad=True)\n",
      "Epoch 47 started\n",
      "weight=tensor([[-0.2687,  0.9663,  0.2548],\n",
      "        [ 0.5342,  0.5137,  0.1725]], requires_grad=True), bias=tensor([ 0.6080, -0.9827], requires_grad=True)\n",
      "Epoch 48 started\n",
      "weight=tensor([[-0.2686,  0.9661,  0.2550],\n",
      "        [ 0.5335,  0.5145,  0.1721]], requires_grad=True), bias=tensor([ 0.6080, -0.9827], requires_grad=True)\n",
      "Epoch 49 started\n",
      "weight=tensor([[-0.2684,  0.9658,  0.2551],\n",
      "        [ 0.5327,  0.5153,  0.1718]], requires_grad=True), bias=tensor([ 0.6080, -0.9827], requires_grad=True)\n",
      "Epoch 50 started\n",
      "weight=tensor([[-0.2682,  0.9656,  0.2553],\n",
      "        [ 0.5320,  0.5162,  0.1714]], requires_grad=True), bias=tensor([ 0.6080, -0.9827], requires_grad=True)\n",
      "Epoch 51 started\n",
      "weight=tensor([[-0.2681,  0.9654,  0.2555],\n",
      "        [ 0.5312,  0.5170,  0.1711]], requires_grad=True), bias=tensor([ 0.6080, -0.9827], requires_grad=True)\n",
      "Epoch 52 started\n",
      "weight=tensor([[-0.2679,  0.9651,  0.2556],\n",
      "        [ 0.5305,  0.5178,  0.1707]], requires_grad=True), bias=tensor([ 0.6080, -0.9828], requires_grad=True)\n",
      "Epoch 53 started\n",
      "weight=tensor([[-0.2677,  0.9649,  0.2558],\n",
      "        [ 0.5297,  0.5186,  0.1704]], requires_grad=True), bias=tensor([ 0.6080, -0.9828], requires_grad=True)\n",
      "Epoch 54 started\n",
      "weight=tensor([[-0.2675,  0.9647,  0.2560],\n",
      "        [ 0.5290,  0.5194,  0.1701]], requires_grad=True), bias=tensor([ 0.6080, -0.9828], requires_grad=True)\n",
      "Epoch 55 started\n",
      "weight=tensor([[-0.2674,  0.9644,  0.2561],\n",
      "        [ 0.5283,  0.5202,  0.1697]], requires_grad=True), bias=tensor([ 0.6080, -0.9828], requires_grad=True)\n",
      "Epoch 56 started\n",
      "weight=tensor([[-0.2672,  0.9642,  0.2563],\n",
      "        [ 0.5275,  0.5210,  0.1694]], requires_grad=True), bias=tensor([ 0.6080, -0.9828], requires_grad=True)\n",
      "Epoch 57 started\n",
      "weight=tensor([[-0.2670,  0.9640,  0.2565],\n",
      "        [ 0.5268,  0.5218,  0.1690]], requires_grad=True), bias=tensor([ 0.6080, -0.9828], requires_grad=True)\n",
      "Epoch 58 started\n",
      "weight=tensor([[-0.2669,  0.9637,  0.2566],\n",
      "        [ 0.5260,  0.5226,  0.1687]], requires_grad=True), bias=tensor([ 0.6080, -0.9828], requires_grad=True)\n",
      "Epoch 59 started\n",
      "weight=tensor([[-0.2667,  0.9635,  0.2568],\n",
      "        [ 0.5253,  0.5235,  0.1684]], requires_grad=True), bias=tensor([ 0.6080, -0.9828], requires_grad=True)\n",
      "Epoch 60 started\n",
      "weight=tensor([[-0.2665,  0.9633,  0.2569],\n",
      "        [ 0.5246,  0.5243,  0.1680]], requires_grad=True), bias=tensor([ 0.6080, -0.9829], requires_grad=True)\n",
      "Epoch 61 started\n",
      "weight=tensor([[-0.2664,  0.9630,  0.2571],\n",
      "        [ 0.5238,  0.5250,  0.1677]], requires_grad=True), bias=tensor([ 0.6080, -0.9829], requires_grad=True)\n",
      "Epoch 62 started\n",
      "weight=tensor([[-0.2662,  0.9628,  0.2573],\n",
      "        [ 0.5231,  0.5258,  0.1674]], requires_grad=True), bias=tensor([ 0.6080, -0.9829], requires_grad=True)\n",
      "Epoch 63 started\n",
      "weight=tensor([[-0.2660,  0.9626,  0.2574],\n",
      "        [ 0.5224,  0.5266,  0.1670]], requires_grad=True), bias=tensor([ 0.6080, -0.9829], requires_grad=True)\n",
      "Epoch 64 started\n",
      "weight=tensor([[-0.2659,  0.9624,  0.2576],\n",
      "        [ 0.5217,  0.5274,  0.1667]], requires_grad=True), bias=tensor([ 0.6080, -0.9829], requires_grad=True)\n",
      "Epoch 65 started\n",
      "weight=tensor([[-0.2657,  0.9621,  0.2578],\n",
      "        [ 0.5209,  0.5282,  0.1664]], requires_grad=True), bias=tensor([ 0.6080, -0.9829], requires_grad=True)\n",
      "Epoch 66 started\n",
      "weight=tensor([[-0.2655,  0.9619,  0.2579],\n",
      "        [ 0.5202,  0.5290,  0.1660]], requires_grad=True), bias=tensor([ 0.6080, -0.9829], requires_grad=True)\n",
      "Epoch 67 started\n",
      "weight=tensor([[-0.2654,  0.9617,  0.2581],\n",
      "        [ 0.5195,  0.5298,  0.1657]], requires_grad=True), bias=tensor([ 0.6080, -0.9829], requires_grad=True)\n",
      "Epoch 68 started\n",
      "weight=tensor([[-0.2652,  0.9615,  0.2582],\n",
      "        [ 0.5188,  0.5306,  0.1654]], requires_grad=True), bias=tensor([ 0.6080, -0.9830], requires_grad=True)\n",
      "Epoch 69 started\n",
      "weight=tensor([[-0.2651,  0.9612,  0.2584],\n",
      "        [ 0.5181,  0.5313,  0.1651]], requires_grad=True), bias=tensor([ 0.6080, -0.9830], requires_grad=True)\n",
      "Epoch 70 started\n",
      "weight=tensor([[-0.2649,  0.9610,  0.2586],\n",
      "        [ 0.5174,  0.5321,  0.1647]], requires_grad=True), bias=tensor([ 0.6080, -0.9830], requires_grad=True)\n",
      "Epoch 71 started\n",
      "weight=tensor([[-0.2647,  0.9608,  0.2587],\n",
      "        [ 0.5166,  0.5329,  0.1644]], requires_grad=True), bias=tensor([ 0.6080, -0.9830], requires_grad=True)\n",
      "Epoch 72 started\n",
      "weight=tensor([[-0.2646,  0.9606,  0.2589],\n",
      "        [ 0.5159,  0.5337,  0.1641]], requires_grad=True), bias=tensor([ 0.6080, -0.9830], requires_grad=True)\n",
      "Epoch 73 started\n",
      "weight=tensor([[-0.2644,  0.9603,  0.2590],\n",
      "        [ 0.5152,  0.5344,  0.1638]], requires_grad=True), bias=tensor([ 0.6080, -0.9830], requires_grad=True)\n",
      "Epoch 74 started\n",
      "weight=tensor([[-0.2643,  0.9601,  0.2592],\n",
      "        [ 0.5145,  0.5352,  0.1635]], requires_grad=True), bias=tensor([ 0.6080, -0.9830], requires_grad=True)\n",
      "Epoch 75 started\n",
      "weight=tensor([[-0.2641,  0.9599,  0.2594],\n",
      "        [ 0.5138,  0.5360,  0.1631]], requires_grad=True), bias=tensor([ 0.6080, -0.9831], requires_grad=True)\n",
      "Epoch 76 started\n",
      "weight=tensor([[-0.2639,  0.9597,  0.2595],\n",
      "        [ 0.5131,  0.5367,  0.1628]], requires_grad=True), bias=tensor([ 0.6080, -0.9831], requires_grad=True)\n",
      "Epoch 77 started\n",
      "weight=tensor([[-0.2638,  0.9595,  0.2597],\n",
      "        [ 0.5124,  0.5375,  0.1625]], requires_grad=True), bias=tensor([ 0.6080, -0.9831], requires_grad=True)\n",
      "Epoch 78 started\n",
      "weight=tensor([[-0.2636,  0.9592,  0.2598],\n",
      "        [ 0.5117,  0.5383,  0.1622]], requires_grad=True), bias=tensor([ 0.6080, -0.9831], requires_grad=True)\n",
      "Epoch 79 started\n",
      "weight=tensor([[-0.2635,  0.9590,  0.2600],\n",
      "        [ 0.5110,  0.5390,  0.1619]], requires_grad=True), bias=tensor([ 0.6080, -0.9831], requires_grad=True)\n",
      "Epoch 80 started\n",
      "weight=tensor([[-0.2633,  0.9588,  0.2601],\n",
      "        [ 0.5103,  0.5398,  0.1616]], requires_grad=True), bias=tensor([ 0.6080, -0.9831], requires_grad=True)\n",
      "Epoch 81 started\n",
      "weight=tensor([[-0.2632,  0.9586,  0.2603],\n",
      "        [ 0.5096,  0.5405,  0.1613]], requires_grad=True), bias=tensor([ 0.6080, -0.9831], requires_grad=True)\n",
      "Epoch 82 started\n",
      "weight=tensor([[-0.2630,  0.9584,  0.2604],\n",
      "        [ 0.5089,  0.5413,  0.1610]], requires_grad=True), bias=tensor([ 0.6080, -0.9831], requires_grad=True)\n",
      "Epoch 83 started\n",
      "weight=tensor([[-0.2629,  0.9582,  0.2606],\n",
      "        [ 0.5082,  0.5420,  0.1606]], requires_grad=True), bias=tensor([ 0.6080, -0.9832], requires_grad=True)\n",
      "Epoch 84 started\n",
      "weight=tensor([[-0.2627,  0.9579,  0.2608],\n",
      "        [ 0.5076,  0.5428,  0.1603]], requires_grad=True), bias=tensor([ 0.6080, -0.9832], requires_grad=True)\n",
      "Epoch 85 started\n",
      "weight=tensor([[-0.2625,  0.9577,  0.2609],\n",
      "        [ 0.5069,  0.5435,  0.1600]], requires_grad=True), bias=tensor([ 0.6080, -0.9832], requires_grad=True)\n",
      "Epoch 86 started\n",
      "weight=tensor([[-0.2624,  0.9575,  0.2611],\n",
      "        [ 0.5062,  0.5443,  0.1597]], requires_grad=True), bias=tensor([ 0.6080, -0.9832], requires_grad=True)\n",
      "Epoch 87 started\n",
      "weight=tensor([[-0.2622,  0.9573,  0.2612],\n",
      "        [ 0.5055,  0.5450,  0.1594]], requires_grad=True), bias=tensor([ 0.6080, -0.9832], requires_grad=True)\n",
      "Epoch 88 started\n",
      "weight=tensor([[-0.2621,  0.9571,  0.2614],\n",
      "        [ 0.5048,  0.5457,  0.1591]], requires_grad=True), bias=tensor([ 0.6080, -0.9832], requires_grad=True)\n",
      "Epoch 89 started\n",
      "weight=tensor([[-0.2619,  0.9569,  0.2615],\n",
      "        [ 0.5041,  0.5465,  0.1588]], requires_grad=True), bias=tensor([ 0.6080, -0.9832], requires_grad=True)\n",
      "Epoch 90 started\n",
      "weight=tensor([[-0.2618,  0.9567,  0.2617],\n",
      "        [ 0.5035,  0.5472,  0.1585]], requires_grad=True), bias=tensor([ 0.6080, -0.9832], requires_grad=True)\n",
      "Epoch 91 started\n",
      "weight=tensor([[-0.2616,  0.9565,  0.2618],\n",
      "        [ 0.5028,  0.5479,  0.1582]], requires_grad=True), bias=tensor([ 0.6080, -0.9833], requires_grad=True)\n",
      "Epoch 92 started\n",
      "weight=tensor([[-0.2615,  0.9562,  0.2620],\n",
      "        [ 0.5021,  0.5487,  0.1579]], requires_grad=True), bias=tensor([ 0.6080, -0.9833], requires_grad=True)\n",
      "Epoch 93 started\n",
      "weight=tensor([[-0.2613,  0.9560,  0.2621],\n",
      "        [ 0.5015,  0.5494,  0.1576]], requires_grad=True), bias=tensor([ 0.6080, -0.9833], requires_grad=True)\n",
      "Epoch 94 started\n",
      "weight=tensor([[-0.2612,  0.9558,  0.2623],\n",
      "        [ 0.5008,  0.5501,  0.1573]], requires_grad=True), bias=tensor([ 0.6080, -0.9833], requires_grad=True)\n",
      "Epoch 95 started\n",
      "weight=tensor([[-0.2610,  0.9556,  0.2624],\n",
      "        [ 0.5001,  0.5508,  0.1570]], requires_grad=True), bias=tensor([ 0.6080, -0.9833], requires_grad=True)\n",
      "Epoch 96 started\n",
      "weight=tensor([[-0.2609,  0.9554,  0.2626],\n",
      "        [ 0.4994,  0.5516,  0.1567]], requires_grad=True), bias=tensor([ 0.6080, -0.9833], requires_grad=True)\n",
      "Epoch 97 started\n",
      "weight=tensor([[-0.2607,  0.9552,  0.2627],\n",
      "        [ 0.4988,  0.5523,  0.1565]], requires_grad=True), bias=tensor([ 0.6080, -0.9833], requires_grad=True)\n",
      "Epoch 98 started\n",
      "weight=tensor([[-0.2606,  0.9550,  0.2629],\n",
      "        [ 0.4981,  0.5530,  0.1562]], requires_grad=True), bias=tensor([ 0.6080, -0.9833], requires_grad=True)\n",
      "Epoch 99 started\n",
      "weight=tensor([[-0.2604,  0.9548,  0.2630],\n",
      "        [ 0.4975,  0.5537,  0.1559]], requires_grad=True), bias=tensor([ 0.6080, -0.9834], requires_grad=True)\n"
     ]
    }
   ],
   "source": [
    "# Train for 100 epochs\n",
    "for i in range(100):\n",
    "    print(\"Epoch {} started\".format(i))\n",
    "    preds = model(inputs)\n",
    "    loss = mse(preds, targets)\n",
    "    loss.backward()\n",
    "    with torch.no_grad():\n",
    "        w -= w.grad * 1e-5\n",
    "        b -= b.grad * 1e-5\n",
    "        w.grad.zero_()\n",
    "        b.grad.zero_()\n",
    "    print(\"weight={}, bias={}\".format(w, b))"
   ]
  },
  {
   "cell_type": "code",
   "execution_count": 53,
   "id": "7503ab03",
   "metadata": {},
   "outputs": [
    {
     "name": "stdout",
     "output_type": "stream",
     "text": [
      "tensor(114.7581, grad_fn=<DivBackward0>)\n"
     ]
    }
   ],
   "source": [
    "# Calculate loss\n",
    "preds = model(inputs)\n",
    "loss = mse(preds, targets)\n",
    "print(loss)"
   ]
  },
  {
   "cell_type": "code",
   "execution_count": 57,
   "id": "b280d705",
   "metadata": {},
   "outputs": [
    {
     "data": {
      "text/plain": [
       "tensor([[ 56.8735,  79.1448],\n",
       "        [ 77.7583, 103.0032],\n",
       "        [121.1530, 125.5115]], grad_fn=<AddBackward0>)"
      ]
     },
     "execution_count": 57,
     "metadata": {},
     "output_type": "execute_result"
    }
   ],
   "source": [
    "preds"
   ]
  },
  {
   "cell_type": "code",
   "execution_count": 58,
   "id": "262d151a",
   "metadata": {},
   "outputs": [
    {
     "data": {
      "text/plain": [
       "tensor([[ 56.,  70.],\n",
       "        [ 81., 101.],\n",
       "        [119., 133.]])"
      ]
     },
     "execution_count": 58,
     "metadata": {},
     "output_type": "execute_result"
    }
   ],
   "source": [
    "targets"
   ]
  },
  {
   "cell_type": "code",
   "execution_count": 59,
   "id": "a5b08c86",
   "metadata": {},
   "outputs": [],
   "source": [
    "import torch.nn as nn"
   ]
  },
  {
   "cell_type": "code",
   "execution_count": 60,
   "id": "dcd962c4",
   "metadata": {},
   "outputs": [],
   "source": [
    "# Input (temp, rainfall, humidity)\n",
    "inputs = np.array([[73, 67, 43], \n",
    "                   [91, 88, 64], \n",
    "                   [87, 134, 58], \n",
    "                   [102, 43, 37], \n",
    "                   [69, 96, 70], \n",
    "                   [74, 66, 43], \n",
    "                   [91, 87, 65], \n",
    "                   [88, 134, 59], \n",
    "                   [101, 44, 37], \n",
    "                   [68, 96, 71], \n",
    "                   [73, 66, 44], \n",
    "                   [92, 87, 64], \n",
    "                   [87, 135, 57], \n",
    "                   [103, 43, 36], \n",
    "                   [68, 97, 70]], \n",
    "                  dtype='float32')\n",
    "\n",
    "# Targets (apples, oranges)\n",
    "targets = np.array([[56, 70], \n",
    "                    [81, 101], \n",
    "                    [119, 133], \n",
    "                    [22, 37], \n",
    "                    [103, 119],\n",
    "                    [57, 69], \n",
    "                    [80, 102], \n",
    "                    [118, 132], \n",
    "                    [21, 38], \n",
    "                    [104, 118], \n",
    "                    [57, 69], \n",
    "                    [82, 100], \n",
    "                    [118, 134], \n",
    "                    [20, 38], \n",
    "                    [102, 120]], \n",
    "                   dtype='float32')\n",
    "\n",
    "inputs = torch.from_numpy(inputs)\n",
    "targets = torch.from_numpy(targets)"
   ]
  },
  {
   "cell_type": "code",
   "execution_count": 61,
   "id": "8226166a",
   "metadata": {},
   "outputs": [
    {
     "data": {
      "text/plain": [
       "tensor([[ 73.,  67.,  43.],\n",
       "        [ 91.,  88.,  64.],\n",
       "        [ 87., 134.,  58.],\n",
       "        [102.,  43.,  37.],\n",
       "        [ 69.,  96.,  70.],\n",
       "        [ 74.,  66.,  43.],\n",
       "        [ 91.,  87.,  65.],\n",
       "        [ 88., 134.,  59.],\n",
       "        [101.,  44.,  37.],\n",
       "        [ 68.,  96.,  71.],\n",
       "        [ 73.,  66.,  44.],\n",
       "        [ 92.,  87.,  64.],\n",
       "        [ 87., 135.,  57.],\n",
       "        [103.,  43.,  36.],\n",
       "        [ 68.,  97.,  70.]])"
      ]
     },
     "execution_count": 61,
     "metadata": {},
     "output_type": "execute_result"
    }
   ],
   "source": [
    "inputs"
   ]
  },
  {
   "cell_type": "code",
   "execution_count": 13,
   "id": "d300bca3",
   "metadata": {},
   "outputs": [],
   "source": [
    "import torch\n",
    "from torch.utils.data import TensorDataset"
   ]
  },
  {
   "cell_type": "code",
   "execution_count": 63,
   "id": "41a9c6f9",
   "metadata": {
    "scrolled": true
   },
   "outputs": [
    {
     "data": {
      "text/plain": [
       "(tensor([[ 73.,  67.,  43.],\n",
       "         [ 91.,  88.,  64.],\n",
       "         [ 87., 134.,  58.]]),\n",
       " tensor([[ 56.,  70.],\n",
       "         [ 81., 101.],\n",
       "         [119., 133.]]))"
      ]
     },
     "execution_count": 63,
     "metadata": {},
     "output_type": "execute_result"
    }
   ],
   "source": [
    "train_ds = TensorDataset(inputs, targets)\n",
    "train_ds[0:3]"
   ]
  },
  {
   "cell_type": "code",
   "execution_count": 64,
   "id": "00af951f",
   "metadata": {},
   "outputs": [],
   "source": [
    "from torch.utils.data import DataLoader"
   ]
  },
  {
   "cell_type": "code",
   "execution_count": 65,
   "id": "8bdf25b7",
   "metadata": {},
   "outputs": [],
   "source": [
    "# Define data loader\n",
    "batch_size = 5\n",
    "train_dl = DataLoader(train_ds, batch_size, shuffle=True)"
   ]
  },
  {
   "cell_type": "code",
   "execution_count": 66,
   "id": "5c491b42",
   "metadata": {},
   "outputs": [
    {
     "name": "stdout",
     "output_type": "stream",
     "text": [
      "tensor([[ 73.,  67.,  43.],\n",
      "        [ 88., 134.,  59.],\n",
      "        [ 68.,  97.,  70.],\n",
      "        [ 73.,  66.,  44.],\n",
      "        [102.,  43.,  37.]])\n",
      "tensor([[ 56.,  70.],\n",
      "        [118., 132.],\n",
      "        [102., 120.],\n",
      "        [ 57.,  69.],\n",
      "        [ 22.,  37.]])\n"
     ]
    }
   ],
   "source": [
    "for xb, yb in train_dl:\n",
    "    print(xb)# Define data loader\n",
    "batch_size = 5\n",
    "train_dl = DataLoader(train_ds, batch_size, shuffle=True)\n",
    "    print(yb)\n",
    "    break"
   ]
  },
  {
   "cell_type": "code",
   "execution_count": 67,
   "id": "4a8d8787",
   "metadata": {},
   "outputs": [
    {
     "name": "stdout",
     "output_type": "stream",
     "text": [
      "Parameter containing:\n",
      "tensor([[-0.2360, -0.0944, -0.0630],\n",
      "        [ 0.3189, -0.3533,  0.5441]], requires_grad=True)\n",
      "Parameter containing:\n",
      "tensor([-0.4491, -0.4298], requires_grad=True)\n"
     ]
    }
   ],
   "source": [
    "# Define model\n",
    "model = nn.Linear(3, 2)\n",
    "print(model.weight)\n",
    "print(model.bias)"
   ]
  },
  {
   "cell_type": "code",
   "execution_count": 68,
   "id": "ff2e8ee4",
   "metadata": {},
   "outputs": [
    {
     "data": {
      "text/plain": [
       "tensor([[-26.7101,  22.5802],\n",
       "        [-34.2636,  32.3286],\n",
       "        [-37.2822,  11.5384],\n",
       "        [-30.9110,  37.0427],\n",
       "        [-30.2048,  25.7506],\n",
       "        [-26.8517,  23.2523],\n",
       "        [-34.2322,  33.2259],\n",
       "        [-37.5812,  12.4014],\n",
       "        [-30.7693,  36.3705],\n",
       "        [-30.0318,  25.9758],\n",
       "        [-26.6788,  23.4775],\n",
       "        [-34.4052,  33.0008],\n",
       "        [-37.3135,  10.6410],\n",
       "        [-31.0839,  36.8176],\n",
       "        [-30.0632,  25.0785]], grad_fn=<AddmmBackward0>)"
      ]
     },
     "execution_count": 68,
     "metadata": {},
     "output_type": "execute_result"
    }
   ],
   "source": [
    "# Generate predictions\n",
    "preds = model(inputs)\n",
    "preds"
   ]
  },
  {
   "cell_type": "code",
   "execution_count": 69,
   "id": "ee59bd37",
   "metadata": {},
   "outputs": [],
   "source": [
    "# Import nn.functional\n",
    "import torch.nn.functional as F"
   ]
  },
  {
   "cell_type": "code",
   "execution_count": 70,
   "id": "36f20f4f",
   "metadata": {},
   "outputs": [],
   "source": [
    "loss_fn = F.mse_loss"
   ]
  },
  {
   "cell_type": "code",
   "execution_count": 71,
   "id": "63bea70e",
   "metadata": {},
   "outputs": [
    {
     "name": "stdout",
     "output_type": "stream",
     "text": [
      "tensor(9518.3145, grad_fn=<MseLossBackward0>)\n"
     ]
    }
   ],
   "source": [
    "loss = loss_fn(model(inputs), targets)\n",
    "print(loss)"
   ]
  },
  {
   "cell_type": "code",
   "execution_count": 72,
   "id": "62b14b2a",
   "metadata": {},
   "outputs": [],
   "source": [
    "# Define optimizer\n",
    "opt = torch.optim.SGD(model.parameters(), lr=1e-5)"
   ]
  },
  {
   "cell_type": "code",
   "execution_count": 73,
   "id": "ceac1f5c",
   "metadata": {},
   "outputs": [],
   "source": [
    "def fit(num_epochs, model, loss_fn, opt, train_dl):\n",
    "    \n",
    "    # Repeat for given number of epochs\n",
    "    for epoch in range(num_epochs):\n",
    "        \n",
    "        # Train with batches of data\n",
    "        for xb,yb in train_dl:\n",
    "            \n",
    "            # 1. Generate predictions\n",
    "            pred = model(xb)\n",
    "            \n",
    "            # 2. Calculate loss\n",
    "            loss = loss_fn(pred, yb)\n",
    "            \n",
    "            # 3. Compute gradients\n",
    "            loss.backward()\n",
    "            \n",
    "            # 4. Update parameters using gradients\n",
    "            opt.step()\n",
    "            \n",
    "            # 5. Reset the gradients to zero\n",
    "            opt.zero_grad()\n",
    "        \n",
    "        # Print the progress\n",
    "        if (epoch+1) % 10 == 0:\n",
    "            print('Epoch [{}/{}], Loss: {:.4f}'.format(epoch+1, num_epochs, loss.item()))"
   ]
  },
  {
   "cell_type": "code",
   "execution_count": 74,
   "id": "2af65be7",
   "metadata": {},
   "outputs": [
    {
     "name": "stdout",
     "output_type": "stream",
     "text": [
      "Epoch [10/100], Loss: 263.3543\n",
      "Epoch [20/100], Loss: 114.6906\n",
      "Epoch [30/100], Loss: 52.5258\n",
      "Epoch [40/100], Loss: 145.3907\n",
      "Epoch [50/100], Loss: 110.6447\n",
      "Epoch [60/100], Loss: 115.1226\n",
      "Epoch [70/100], Loss: 78.3521\n",
      "Epoch [80/100], Loss: 60.4981\n",
      "Epoch [90/100], Loss: 26.7787\n",
      "Epoch [100/100], Loss: 16.7338\n"
     ]
    }
   ],
   "source": [
    "fit(100, model, loss_fn, opt, train_dl)"
   ]
  },
  {
   "cell_type": "code",
   "execution_count": 75,
   "id": "a9f56b08",
   "metadata": {},
   "outputs": [
    {
     "data": {
      "text/plain": [
       "tensor([[ 58.0436,  71.7946],\n",
       "        [ 80.8576, 101.5963],\n",
       "        [119.3948, 128.5651],\n",
       "        [ 27.1825,  45.9803],\n",
       "        [ 95.9937, 115.4248],\n",
       "        [ 56.9184,  70.9638],\n",
       "        [ 80.4170, 101.7688],\n",
       "        [119.5730, 129.2779],\n",
       "        [ 28.3077,  46.8111],\n",
       "        [ 96.6784, 116.4281],\n",
       "        [ 57.6030,  71.9671],\n",
       "        [ 79.7323, 100.7655],\n",
       "        [119.8354, 128.3926],\n",
       "        [ 26.4978,  44.9770],\n",
       "        [ 97.1190, 116.2556]], grad_fn=<AddmmBackward0>)"
      ]
     },
     "execution_count": 75,
     "metadata": {},
     "output_type": "execute_result"
    }
   ],
   "source": [
    "# Generate predictions\n",
    "preds = model(inputs)\n",
    "preds"
   ]
  },
  {
   "cell_type": "code",
   "execution_count": 76,
   "id": "999414b5",
   "metadata": {},
   "outputs": [
    {
     "data": {
      "text/plain": [
       "tensor([[ 56.,  70.],\n",
       "        [ 81., 101.],\n",
       "        [119., 133.],\n",
       "        [ 22.,  37.],\n",
       "        [103., 119.],\n",
       "        [ 57.,  69.],\n",
       "        [ 80., 102.],\n",
       "        [118., 132.],\n",
       "        [ 21.,  38.],\n",
       "        [104., 118.],\n",
       "        [ 57.,  69.],\n",
       "        [ 82., 100.],\n",
       "        [118., 134.],\n",
       "        [ 20.,  38.],\n",
       "        [102., 120.]])"
      ]
     },
     "execution_count": 76,
     "metadata": {},
     "output_type": "execute_result"
    }
   ],
   "source": [
    "# Compare with targets\n",
    "targets"
   ]
  },
  {
   "cell_type": "code",
   "execution_count": null,
   "id": "999c39f7",
   "metadata": {},
   "outputs": [],
   "source": []
  },
  {
   "cell_type": "code",
   "execution_count": null,
   "id": "7e077c34",
   "metadata": {},
   "outputs": [],
   "source": []
  },
  {
   "cell_type": "code",
   "execution_count": null,
   "id": "7840a641",
   "metadata": {},
   "outputs": [],
   "source": []
  },
  {
   "cell_type": "code",
   "execution_count": null,
   "id": "fa0c1de1",
   "metadata": {},
   "outputs": [],
   "source": []
  }
 ],
 "metadata": {
  "kernelspec": {
   "display_name": "Python 3 (ipykernel)",
   "language": "python",
   "name": "python3"
  },
  "language_info": {
   "codemirror_mode": {
    "name": "ipython",
    "version": 3
   },
   "file_extension": ".py",
   "mimetype": "text/x-python",
   "name": "python",
   "nbconvert_exporter": "python",
   "pygments_lexer": "ipython3",
   "version": "3.11.5"
  }
 },
 "nbformat": 4,
 "nbformat_minor": 5
}
