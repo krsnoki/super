{
  "nbformat": 4,
  "nbformat_minor": 0,
  "metadata": {
    "colab": {
      "provenance": []
    },
    "kernelspec": {
      "name": "python3",
      "display_name": "Python 3"
    },
    "language_info": {
      "name": "python"
    }
  },
  "cells": [
    {
      "cell_type": "markdown",
      "source": [
        "# **Tensors! what are that?**\n",
        "\n",
        "The torch package contains data structures for multi-dimensional tensors and defines mathematical operations over these tensors. Additionally, it provides many utilities for efficient serialization of Tensors and arbitrary types, and other useful utilities.\n",
        "\n",
        "- is_tensor\n",
        "- numel\n",
        "- asarray\n",
        "- as_tensor\n",
        "- arange\n",
        "\n",
        "Before we begin, let's install and import PyTorch"
      ],
      "metadata": {
        "id": "XgZLvuPdFfH-"
      }
    },
    {
      "cell_type": "markdown",
      "source": [
        "**_is_tensor()_**\n",
        "\n",
        "For the provided object to the function is_tensor() it returns boolean value True if it is a PyTorch tensor."
      ],
      "metadata": {
        "id": "xgNbmsBumZ1K"
      }
    },
    {
      "cell_type": "code",
      "source": [
        "import numpy as np\n",
        "import torch as t"
      ],
      "metadata": {
        "id": "uuc7ogjxH0Bl"
      },
      "execution_count": 3,
      "outputs": []
    },
    {
      "cell_type": "code",
      "source": [
        "arr = np.array([[22, 45, 78],\n",
        "               [23, 25, 15],\n",
        "               [78, 96, 65]], dtype='float32')"
      ],
      "metadata": {
        "id": "0S-6uAXrH0NU"
      },
      "execution_count": null,
      "outputs": []
    },
    {
      "cell_type": "code",
      "source": [
        "ten = t.from_numpy(arr)\n",
        "print(type(ten))"
      ],
      "metadata": {
        "colab": {
          "base_uri": "https://localhost:8080/"
        },
        "id": "n-3Aw0uBH0QV",
        "outputId": "e4029751-3266-4a05-ebc8-003a575b33a8"
      },
      "execution_count": null,
      "outputs": [
        {
          "output_type": "stream",
          "name": "stdout",
          "text": [
            "<class 'torch.Tensor'>\n"
          ]
        }
      ]
    },
    {
      "cell_type": "markdown",
      "source": [
        "Using is_tensor method to check if given object is torch tensor."
      ],
      "metadata": {
        "id": "iIiXgX17mN4G"
      }
    },
    {
      "cell_type": "code",
      "source": [
        "print(t.is_tensor(arr))"
      ],
      "metadata": {
        "colab": {
          "base_uri": "https://localhost:8080/"
        },
        "id": "azIBM3ERH0TO",
        "outputId": "a2911ac1-9c17-440e-a7f4-2ff39d50cfc8"
      },
      "execution_count": null,
      "outputs": [
        {
          "output_type": "stream",
          "name": "stdout",
          "text": [
            "False\n"
          ]
        }
      ]
    },
    {
      "cell_type": "code",
      "source": [
        "print(t.is_tensor(ten))"
      ],
      "metadata": {
        "colab": {
          "base_uri": "https://localhost:8080/"
        },
        "id": "nnjU05MnH0Wt",
        "outputId": "86383514-32f7-4a17-8ae9-f2751068a32c"
      },
      "execution_count": null,
      "outputs": [
        {
          "output_type": "stream",
          "name": "stdout",
          "text": [
            "True\n"
          ]
        }
      ]
    },
    {
      "cell_type": "markdown",
      "source": [
        "**_numel()_**\n",
        "\n",
        "Returns the total number of elements in the input tensor."
      ],
      "metadata": {
        "id": "lIrm5eUaqgzY"
      }
    },
    {
      "cell_type": "code",
      "source": [
        "print(t.numel(ten))"
      ],
      "metadata": {
        "colab": {
          "base_uri": "https://localhost:8080/"
        },
        "id": "L0gNPvr0H0ZZ",
        "outputId": "343e5a13-4416-4ef7-aadd-e9f191202684"
      },
      "execution_count": null,
      "outputs": [
        {
          "output_type": "stream",
          "name": "stdout",
          "text": [
            "9\n"
          ]
        }
      ]
    },
    {
      "cell_type": "markdown",
      "source": [
        "**_asarray()_**\n",
        "\n",
        "This method converts the the given object to the Tensor."
      ],
      "metadata": {
        "id": "c0CPRJfsrPX0"
      }
    },
    {
      "cell_type": "code",
      "source": [
        "type(arr)"
      ],
      "metadata": {
        "colab": {
          "base_uri": "https://localhost:8080/"
        },
        "id": "-p3JOczurPDa",
        "outputId": "3fd762c5-03d3-4de6-f3b7-dc3abd0b2b1e"
      },
      "execution_count": null,
      "outputs": [
        {
          "output_type": "execute_result",
          "data": {
            "text/plain": [
              "numpy.ndarray"
            ]
          },
          "metadata": {},
          "execution_count": 16
        }
      ]
    },
    {
      "cell_type": "markdown",
      "source": [
        "NumPy array conversion to the torch tensor.\n",
        "\n",
        "\n",
        "\n",
        "\n",
        "\n"
      ],
      "metadata": {
        "id": "sRwRyeYJr_mL"
      }
    },
    {
      "cell_type": "code",
      "source": [
        "array = t.asarray(arr)\n",
        "print(type(array))"
      ],
      "metadata": {
        "colab": {
          "base_uri": "https://localhost:8080/"
        },
        "id": "zLJphp4vrPAs",
        "outputId": "ca612b61-01b9-49df-e961-442a731627ce"
      },
      "execution_count": null,
      "outputs": [
        {
          "output_type": "stream",
          "name": "stdout",
          "text": [
            "<class 'torch.Tensor'>\n"
          ]
        }
      ]
    },
    {
      "cell_type": "markdown",
      "source": [
        "**_as_tensor()_**\n",
        "\n",
        "Converts data into a tensor, sharing data and preserving autograd history if possible."
      ],
      "metadata": {
        "id": "1GCCBrP7sKop"
      }
    },
    {
      "cell_type": "code",
      "source": [
        "newT = t.as_tensor(data=[45, 15, 78, 36])\n",
        "newT"
      ],
      "metadata": {
        "colab": {
          "base_uri": "https://localhost:8080/"
        },
        "id": "Spo6gCxKrO-Z",
        "outputId": "e06c6927-56d7-4e97-d82b-84a871effbc8"
      },
      "execution_count": null,
      "outputs": [
        {
          "output_type": "execute_result",
          "data": {
            "text/plain": [
              "tensor([45, 15, 78, 36])"
            ]
          },
          "metadata": {},
          "execution_count": 20
        }
      ]
    },
    {
      "cell_type": "markdown",
      "source": [
        "**_arange()_**\n",
        "\n",
        "Returns a 1-D tensor of size\n",
        "[\n",
        "end\n",
        "−\n",
        "start/\n",
        "step]\n",
        "[\n",
        "step\n",
        "end−start\n",
        "​]\n",
        "# with values from the interval [start, end] taken with common difference step beginning from start.\n",
        "\n",
        " Parameters\n",
        "\n",
        "\n",
        "**start (Number)** -  the starting value for the set of points. Default: 0.\n",
        "\n",
        "**end (Number)**   -  the ending value for the set of points\n",
        "\n",
        "**step (Number)** - the gap between each pair of adjacent points. Default: 1."
      ],
      "metadata": {
        "id": "Qfsk9W8Myupw"
      }
    },
    {
      "cell_type": "code",
      "source": [
        "t.arange(5)"
      ],
      "metadata": {
        "id": "CLpd0Q08yvBv",
        "colab": {
          "base_uri": "https://localhost:8080/"
        },
        "outputId": "2978d070-a429-475d-f670-f4caa92b2ee2"
      },
      "execution_count": 6,
      "outputs": [
        {
          "output_type": "execute_result",
          "data": {
            "text/plain": [
              "tensor([0, 1, 2, 3, 4])"
            ]
          },
          "metadata": {},
          "execution_count": 6
        }
      ]
    },
    {
      "cell_type": "code",
      "source": [
        "t.arange(15, 60, 8)"
      ],
      "metadata": {
        "id": "xjz7MY1HH0cs",
        "colab": {
          "base_uri": "https://localhost:8080/"
        },
        "outputId": "cb608434-9359-4d02-dd46-2de20273c4a4"
      },
      "execution_count": 7,
      "outputs": [
        {
          "output_type": "execute_result",
          "data": {
            "text/plain": [
              "tensor([15, 23, 31, 39, 47, 55])"
            ]
          },
          "metadata": {},
          "execution_count": 7
        }
      ]
    },
    {
      "cell_type": "code",
      "source": [
        "t.arange(20, 10)"
      ],
      "metadata": {
        "colab": {
          "base_uri": "https://localhost:8080/",
          "height": 141
        },
        "id": "EZXxjm5GY1-c",
        "outputId": "db4fd644-c179-4b6d-9ddb-ee52dc7ad969"
      },
      "execution_count": 10,
      "outputs": [
        {
          "output_type": "error",
          "ename": "RuntimeError",
          "evalue": "upper bound and larger bound inconsistent with step sign",
          "traceback": [
            "\u001b[0;31m---------------------------------------------------------------------------\u001b[0m",
            "\u001b[0;31mRuntimeError\u001b[0m                              Traceback (most recent call last)",
            "\u001b[0;32m<ipython-input-10-fa1a5bd237c9>\u001b[0m in \u001b[0;36m<cell line: 1>\u001b[0;34m()\u001b[0m\n\u001b[0;32m----> 1\u001b[0;31m \u001b[0mt\u001b[0m\u001b[0;34m.\u001b[0m\u001b[0marange\u001b[0m\u001b[0;34m(\u001b[0m\u001b[0;36m20\u001b[0m\u001b[0;34m,\u001b[0m \u001b[0;36m10\u001b[0m\u001b[0;34m)\u001b[0m\u001b[0;34m\u001b[0m\u001b[0;34m\u001b[0m\u001b[0m\n\u001b[0m",
            "\u001b[0;31mRuntimeError\u001b[0m: upper bound and larger bound inconsistent with step sign"
          ]
        }
      ]
    },
    {
      "cell_type": "markdown",
      "source": [
        "That is why the start value should be lessor than the end value."
      ],
      "metadata": {
        "id": "A5Haj__mZVa5"
      }
    }
  ]
}